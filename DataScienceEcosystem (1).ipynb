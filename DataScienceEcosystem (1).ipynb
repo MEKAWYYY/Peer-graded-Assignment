{
 "cells": [
  {
   "cell_type": "markdown",
   "id": "ed5dc479-1ea0-4574-8c85-c8e5492ec5c5",
   "metadata": {},
   "source": [
    "# Data Science Tools and Ecosystem"
   ]
  },
  {
   "cell_type": "markdown",
   "id": "1736353d-75b6-487e-ab08-6f0dbfffdab6",
   "metadata": {},
   "source": [
    "In this notebook, Data science Tools and Ecosystem are summarized"
   ]
  },
  {
   "cell_type": "markdown",
   "id": "db29c229-9c8f-49d5-93ef-5c2bd3f9891f",
   "metadata": {},
   "source": [
    "**Objectives:**\n",
    "* Data scientists popular languages\n",
    "* Data scientists commonly used libraries * Data science tools\n",
    "* Data science tools"
   ]
  },
  {
   "cell_type": "markdown",
   "id": "ee8790e9-6b3c-42c0-ad1b-28641acbd209",
   "metadata": {},
   "source": [
    "Some of the popular languages that data scientists use are:\n",
    "1. Python\n",
    "2. SQL\n",
    "3. R"
   ]
  },
  {
   "cell_type": "markdown",
   "id": "57083f22-a415-4efd-90c7-adce147f6d2e",
   "metadata": {},
   "source": [
    "some of the commonly used libraries used by data scientists include:\n",
    "1. Numpy\n",
    "2. Pandas\n",
    "3. Seaborn"
   ]
  },
  {
   "cell_type": "markdown",
   "id": "339bcfba-9d5c-4101-8d8c-b9def5496232",
   "metadata": {},
   "source": [
    "Data science tools"
   ]
  },
  {
   "cell_type": "markdown",
   "id": "d1e08cc4-6bd7-4b44-9515-f66b6649f5c7",
   "metadata": {},
   "source": [
    "|Data science tools|\n",
    "|------------------|\n",
    "|Apachespark|\n",
    "|Apachehadoop|\n",
    "|Knime|"
   ]
  },
  {
   "cell_type": "markdown",
   "id": "ea8f9aa7-fab7-4b93-8ca2-0be7bd364cde",
   "metadata": {},
   "source": [
    "### Below are a few examples of evaluating arithmetic expressions in python"
   ]
  },
  {
   "cell_type": "code",
   "execution_count": 5,
   "id": "4788f7fd-cadf-48e9-b451-1b83b63f5568",
   "metadata": {},
   "outputs": [
    {
     "data": {
      "text/plain": [
       "17"
      ]
     },
     "execution_count": 5,
     "metadata": {},
     "output_type": "execute_result"
    }
   ],
   "source": [
    "# This a simple arithmetic expression to multiply \n",
    "(3*4)+5"
   ]
  },
  {
   "cell_type": "code",
   "execution_count": 9,
   "id": "37532881-e185-4f48-af7e-475e2a6359fb",
   "metadata": {},
   "outputs": [
    {
     "name": "stdout",
     "output_type": "stream",
     "text": [
      "3.3333333333333335\n"
     ]
    }
   ],
   "source": [
    "hours= 0\n",
    "mins= 200\n",
    "\n",
    "hours= mins/60\n",
    "#hours= 200/60\n",
    "print (hours)"
   ]
  },
  {
   "cell_type": "markdown",
   "id": "2cf523dc-ef30-469d-be52-3370fe252d4a",
   "metadata": {},
   "source": [
    "## Author\n",
    "Mohamed"
   ]
  }
 ],
 "metadata": {
  "kernelspec": {
   "display_name": "Python 3 (ipykernel)",
   "language": "python",
   "name": "python3"
  },
  "language_info": {
   "codemirror_mode": {
    "name": "ipython",
    "version": 3
   },
   "file_extension": ".py",
   "mimetype": "text/x-python",
   "name": "python",
   "nbconvert_exporter": "python",
   "pygments_lexer": "ipython3",
   "version": "3.11.7"
  }
 },
 "nbformat": 4,
 "nbformat_minor": 5
}
